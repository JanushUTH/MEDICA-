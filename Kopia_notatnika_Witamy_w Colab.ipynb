{
  "cells": [
    {
      "cell_type": "markdown",
      "metadata": {
        "id": "view-in-github",
        "colab_type": "text"
      },
      "source": [
        "<a href=\"https://colab.research.google.com/github/JanushUTH/MEDICA-/blob/main/Kopia_notatnika_Witamy_w%C2%A0Colab.ipynb\" target=\"_parent\"><img src=\"https://colab.research.google.com/assets/colab-badge.svg\" alt=\"Open In Colab\"/></a>"
      ]
    },
    {
      "cell_type": "markdown",
      "source": [
        "1 Projekt"
      ],
      "metadata": {
        "id": "k7Q1qcab7AFg"
      }
    },
    {
      "cell_type": "markdown",
      "source": [],
      "metadata": {
        "id": "pbtqOsWt8fdm"
      }
    },
    {
      "cell_type": "markdown",
      "source": [
        "Projekt strony\n",
        " Base.html\n"
      ],
      "metadata": {
        "id": "cNyu_35T8nNT"
      }
    },
    {
      "cell_type": "code",
      "source": [
        "<!doctype html>\n",
        "<html lang=\"pl\">\n",
        "<head>\n",
        "    <meta charset=\"utf-8\">\n",
        "    <meta name=\"viewport\" content=\"width=device-width, initial-scale=1, shrink-to-fit=no\">\n",
        "    <title>{% block title %}Medica+ System{% endblock %}</title>\n",
        "    <style>\n",
        "        /* Proste style - w realnej aplikacji lepiej przenieść do pliku CSS */\n",
        "        body { font-family: sans-serif; margin: 0; padding: 0; background-color: #a155c5; color: #333; font-size: 16px;}\n",
        "        .container { max-width: 700px; margin: 40px auto; background: #fff; padding: 30px 40px; border-radius: 8px; box-shadow: 0 4px 10px rgba(0,0,0,0.1); }\n",
        "        h1 { color: #a155c5; text-align: center; margin-bottom: 15px; font-size: 1.8em; }\n",
        "        h2 { color: #a155c5; text-align: center; margin-bottom: 30px; font-size: 1.4em; }\n",
        "        label { display: block; margin-bottom: 8px; font-weight: bold; color: #555; font-size: 0.95em;}\n",
        "        input[type=text], input[type=password], input[type=email], input[type=date] {\n",
        "            width: 100%;\n",
        "            padding: 12px;\n",
        "            margin-bottom: 18px;\n",
        "            border: 1px solid #ccc;\n",
        "            border-radius: 4px;\n",
        "            box-sizing: border-box;\n",
        "            font-size: 1em;\n",
        "        }\n",
        "        input:focus { border-color: #a155c5; outline: none; box-shadow: 0 0 0 3px rgba(0,123,255,.25); }\n",
        "        button { background-color: #a155c5; color: white; padding: 12px 20px; border: none; border-radius: 5px; cursor: pointer; font-size: 1em; transition: background-color 0.2s ease; display: block; width: 100%; margin-top: 15px; }\n",
        "        button:hover { background-color: #a155c5; }\n",
        "        .alert { padding: 15px 20px; margin: 20px 0; border: 1px solid transparent; border-radius: 4px; text-align: center; font-size: 0.95em; }\n",
        "        .alert-danger { color: white; background-color: #a155c5; border-color: #f5c6cb; }\n",
        "        .alert-success { color: #155724; background-color: #a155c5; border-color: #c3e6cb; }\n",
        "        .alert-warning { color: white; background-color: #a155c5; border-color: #ffeeba; }\n",
        "        .alert-info { color: #0c5460; background-color: #d1ecf1; border-color: #bee5eb; }\n",
        "        nav { background-color: #a155c5; padding: 10px 0; margin-bottom: 30px; text-align: center; border-radius: 5px 5px 0 0;}\n",
        "        nav a { margin: 0 15px; text-decoration: none; color: #ffffff; font-weight: bold; font-size: 1em; padding: 8px 12px; border-radius: 4px; transition: background-color 0.2s;}\n",
        "        nav a:hover { background-color: #a155c5; text-decoration: none; }\n",
        "        .patient-card { border: 1px solid #e0e0e0; padding: 25px; margin-top: 25px; border-radius: 5px; background-color: #f9f9f9; box-shadow: inset 0 1px 3px rgba(0,0,0,0.05);}\n",
        "        .patient-card p { margin: 10px 0; line-height: 1.7; font-size: 1.05em; }\n",
        "        .patient-card strong { display: inline-block; width: 150px; color: #333; font-weight: 600;}\n",
        "        .patient-card span { color: #555; }\n",
        "        .patient-card hr { border: 0; height: 1px; background-color: #e5e5e5; margin: 20px 0; }\n",
        "        .form-link { text-align: center; margin-top: 25px; font-size: 0.9em;}\n",
        "        .form-link a { color: #a155c5; text-decoration: none; font-weight: bold;}\n",
        "        .form-link a:hover { text-decoration: underline; }\n",
        "        small { font-size: 0.85em; color: #6c757d; margin-top: -12px; display: block; margin-bottom: 15px; }\n",
        "        .password-warning { color: #856404; background-color: #fff3cd; border: 1px solid #ffeeba; padding: 8px; border-radius: 4px; font-size: 0.85rem; margin-top: -10px; margin-bottom: 15px; text-align: center;}\n",
        "\n",
        "    </style>\n",
        "</head>\n",
        "<body>\n",
        "    <div class=\"container\">\n",
        "        <header>\n",
        "             <h1>Medica+ System</h1>\n",
        "             <nav>\n",
        "                {% if session.get('patient_id') %}\n",
        "                 <a href=\"{{ url_for('dashboard') }}\">Karta Pacjenta</a>\n",
        "                 <a href=\"{{ url_for('logout') }}\">Wyloguj ({{ session.get('patient_name', 'Pacjent') }})</a>\n",
        "                {% else %}\n",
        "\n",
        "                 <a href=\"{{ url_for('login') }}\">Logowanie</a>\n",
        "                {% endif %}\n",
        "            </nav>\n",
        "        </header>\n",
        "\n",
        "        <main>\n",
        "            {# Wyświetlanie wiadomości flash (np. o sukcesie, błędzie) #}\n",
        "            {% with messages = get_flashed_messages(with_categories=true) %}\n",
        "                {% if messages %}\n",
        "                    {% for category, message in messages %}\n",
        "                    <div class=\"alert alert-{{ category }}\">{{ message }}</div>\n",
        "                    {% endfor %}\n",
        "                {% endif %}\n",
        "            {% endwith %}\n",
        "\n",
        "            {# Tutaj będzie wstawiana zawartość konkretnej podstrony #}\n",
        "            {% block content %}{% endblock %}\n",
        "        </main>\n",
        "\n",
        "        <footer>\n",
        "            {# Można dodać stopkę, jeśli potrzebna #}\n",
        "        </footer>\n",
        "    </div>\n",
        "</body>\n",
        "</html>"
      ],
      "metadata": {
        "id": "ssVgvrVj_KEe"
      },
      "execution_count": null,
      "outputs": []
    },
    {
      "cell_type": "markdown",
      "source": [
        "Dashboard.html"
      ],
      "metadata": {
        "id": "tPdu1BBw-cdp"
      }
    },
    {
      "cell_type": "code",
      "source": [
        "{% extends 'base.html' %}\n",
        "\n",
        "{% block title %}Karta Pacjenta - Medica+{% endblock %}\n",
        "\n",
        "{% block content %}\n",
        "    <h2>Karta Pacjenta</h2>\n",
        "    {% if patient %}\n",
        "    <div class=\"patient-card\">\n",
        "        <p><strong>Imię:</strong> <span>{{ patient.first_name }}</span></p>\n",
        "        <p><strong>Nazwisko:</strong> <span>{{ patient.last_name }}</span></p>\n",
        "        <p><strong>PESEL:</strong> <span>{{ patient.pesel }}</span></p>\n",
        "        <p><strong>Data urodzenia:</strong> <span>{{ patient.date_of_birth }}</span></p>\n",
        "        <p><strong>Email:</strong> <span>{{ patient.email }}</span></p>\n",
        "        <hr>\n",
        "        <p><em>(To są podstawowe dane pacjenta przechowywane w bazie danych SQLite.)</em></p>\n",
        "    </div>\n",
        "    {% else %}\n",
        "    {# Ten komunikat nie powinien się normalnie pojawić, jeśli logika w app.py jest poprawna #}\n",
        "    <div class=\"alert alert-warning\">Nie można załadować danych pacjenta. Skontaktuj się z administratorem lub spróbuj zalogować się ponownie.</div>\n",
        "    {% endif %}\n",
        "{% endblock %}"
      ],
      "metadata": {
        "id": "E6_0C5B49-cU"
      },
      "execution_count": null,
      "outputs": []
    },
    {
      "cell_type": "markdown",
      "source": [],
      "metadata": {
        "id": "zJa781KW-j1P"
      }
    },
    {
      "cell_type": "markdown",
      "source": [
        "login.html"
      ],
      "metadata": {
        "id": "naWwhlCR-mE6"
      }
    },
    {
      "cell_type": "code",
      "source": [
        "{% extends 'base.html' %}\n",
        "\n",
        "{% block title %}Rejestracja Pacjenta - Medica+{% endblock %}\n",
        "\n",
        "{% block content %}\n",
        "    <h2>Rejestracja Nowego Pacjenta</h2>\n",
        "    <form method=\"post\" action=\"{{ url_for('register') }}\">\n",
        "        {# Token CSRF - Flask-WTF go dodaje automatycznie, tutaj symulacja dla podstawowego Flaska #}\n",
        "        {# W bardziej rozbudowanej aplikacji warto użyć Flask-WTF dla bezpieczeństwa #}\n",
        "\n",
        "        <label for=\"first_name\">Imię:</label>\n",
        "        <input type=\"text\" id=\"first_name\" name=\"first_name\" required>\n",
        "\n",
        "        <label for=\"last_name\">Nazwisko:</label>\n",
        "        <input type=\"text\" id=\"last_name\" name=\"last_name\" required>\n",
        "\n",
        "        <label for=\"pesel\">PESEL:</label>\n",
        "        <input type=\"text\" id=\"pesel\" name=\"pesel\" required pattern=\"\\d{11}\" title=\"PESEL musi składać się z 11 cyfr\">\n",
        "\n",
        "        <label for=\"date_of_birth\">Data urodzenia:</label>\n",
        "        {# Ograniczenie daty, aby nie można było wybrać przyszłej daty #}\n",
        "        <input type=\"date\" id=\"date_of_birth\" name=\"date_of_birth\" required max=\"{{ datetime.date.today().strftime('%Y-%m-%d') }}\">\n",
        "\n",
        "        <label for=\"email\">Email:</label>\n",
        "        <input type=\"email\" id=\"email\" name=\"email\" required>\n",
        "\n",
        "        <label for=\"password\">Hasło:</label>\n",
        "        <input type=\"password\" id=\"password\" name=\"password\" required minlength=\"6\">\n",
        "        <small>Minimum 6 znaków.</small>\n",
        "\n",
        "        <button type=\"submit\">Zarejestruj</button>\n",
        "    </form>\n",
        "    <p class=\"form-link\">Masz już konto? <a href=\"{{ url_for('login') }}\">Zaloguj się</a></p>\n",
        "{% endblock %}"
      ],
      "metadata": {
        "id": "ZRkeZFE5-qSb"
      },
      "execution_count": null,
      "outputs": []
    },
    {
      "cell_type": "code",
      "source": [
        "{% extends 'base.html' %}\n",
        "\n",
        "{% block title %}Logowanie - Medica+{% endblock %}\n",
        "\n",
        "{% block content %}\n",
        "    <h2>Zaloguj się do Systemu Medica+</h2>\n",
        "    <form method=\"post\" action=\"{{ url_for('login') }}\">\n",
        "        <label for=\"pesel\">PESEL:</label>\n",
        "        <input type=\"text\" id=\"pesel\" name=\"pesel\" required pattern=\"\\d{11}\" title=\"PESEL musi składać się z 11 cyfr\">\n",
        "\n",
        "        <label for=\"password\">Hasło:</label>\n",
        "        <input type=\"password\" id=\"password\" name=\"password\" required>\n",
        "\n",
        "        <button type=\"submit\">Zaloguj</button>\n",
        "    </form>\n",
        "     <p class=\"form-link\">Nie masz konta? <a href=\"{{ url_for('register') }}\">Zarejestruj się</a></p>\n",
        "{% endblock %}"
      ],
      "metadata": {
        "id": "3v9hUHW8-fdE"
      },
      "execution_count": null,
      "outputs": []
    }
  ],
  "metadata": {
    "colab": {
      "provenance": [],
      "include_colab_link": true
    },
    "kernelspec": {
      "display_name": "Python 3",
      "name": "python3"
    }
  },
  "nbformat": 4,
  "nbformat_minor": 0
}